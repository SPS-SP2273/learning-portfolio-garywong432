{
 "cells": [
  {
   "attachments": {},
   "cell_type": "markdown",
   "id": "123456",
   "metadata": {},
   "source": [
    "<div style=\"text-align:left;font-size:2em\"><span style=\"font-weight:bolder;font-size:1.25em\">SP2273 | Learning Portfolio</span><br><br><span style=\"font-weight:bold;color:darkred\">Fundamentals (Good) Exercises</span></div>"
   ]
  },
  {
   "cell_type": "code",
   "execution_count": 1,
   "id": "fe53d289",
   "metadata": {},
   "outputs": [
    {
     "name": "stdout",
     "output_type": "stream",
     "text": [
      "You entered batman\n"
     ]
    }
   ],
   "source": [
    "user_input = input('Please provide me with a number?')\n",
    "print('You entered', user_input)"
   ]
  },
  {
   "cell_type": "code",
   "execution_count": 2,
   "id": "14339623",
   "metadata": {},
   "outputs": [],
   "source": [
    "import numpy as np"
   ]
  },
  {
   "cell_type": "code",
   "execution_count": null,
   "id": "cdd67fd9",
   "metadata": {},
   "outputs": [],
   "source": [
    "user_input = input('Please provide me with a number?')\n",
    "print('You entered', user_input)"
   ]
  },
  {
   "cell_type": "code",
   "execution_count": null,
   "id": "e9059867",
   "metadata": {},
   "outputs": [
    {
     "name": "stdout",
     "output_type": "stream",
     "text": [
      "How you doing Gary!\n"
     ]
    }
   ],
   "source": [
    "name = ('Gary')\n",
    "print(f'How you doing {name}!')"
   ]
  },
  {
   "cell_type": "code",
   "execution_count": null,
   "id": "d55c1f80",
   "metadata": {},
   "outputs": [
    {
     "name": "stdout",
     "output_type": "stream",
     "text": [
      "My name is Gary and I am 22 years old.\n"
     ]
    }
   ],
   "source": [
    "name = 'Gary'\n",
    "age = '22'\n",
    "\n",
    "print(f'My name is {name} and I am {age} years old.')"
   ]
  },
  {
   "cell_type": "code",
   "execution_count": null,
   "id": "57e844f4",
   "metadata": {},
   "outputs": [
    {
     "name": "stdout",
     "output_type": "stream",
     "text": [
      "The value of pi to 2 decimal places is 3.14\n",
      "The value of pi to 2 decimal places is 3.142\n",
      "The value of pi to 2 decimal places is 3.1416\n"
     ]
    }
   ],
   "source": [
    "print(f'The value of pi to 2 decimal places is {np.pi:.2f}')\n",
    "print(f'The value of pi to 2 decimal places is {np.pi:.3f}')\n",
    "print(f'The value of pi to 2 decimal places is {np.pi:.4f}')\n",
    "\n"
   ]
  },
  {
   "cell_type": "code",
   "execution_count": 43,
   "id": "84102fad",
   "metadata": {},
   "outputs": [
    {
     "name": "stdout",
     "output_type": "stream",
     "text": [
      "Apple      $ 0.99\n",
      "Banana     $ 0.59\n",
      "Orange     $ 1.29\n",
      "********** $*****\n"
     ]
    }
   ],
   "source": [
    "print(f'Apple      $ 0.99\\nBanana     $ 0.59\\nOrange     $ 1.29\\n********** $*****')"
   ]
  },
  {
   "cell_type": "code",
   "execution_count": 34,
   "id": "da34b24d-4735-4db5-8056-1bf1ab36eb22",
   "metadata": {
    "scrolled": true
   },
   "outputs": [
    {
     "name": "stdout",
     "output_type": "stream",
     "text": [
      "The student's letter grade is Fail\n"
     ]
    }
   ],
   "source": [
    "try:\n",
    "    score = input(\"Enter the student's score: \")\n",
    "    n = int(score)\n",
    "\n",
    "    if 70 <= n <= 100:\n",
    "        print(\"The student's letter grade is A\")\n",
    "    elif 50 <= n < 70:\n",
    "        print(\"The student's letter grade is B\")\n",
    "    elif 35 <= n < 50:\n",
    "        print(\"The student's letter grade is C\")\n",
    "    elif 0 <= n < 35:\n",
    "        print(\"The student's letter grade is Fail\")\n",
    "    else:\n",
    "        print(\"Invalid input. Please enter a value between 0 and 100.\")\n",
    "except ValueError:\n",
    "    print(\"Invalid input. Please enter a value between 0 and 100\")\n"
   ]
  },
  {
   "cell_type": "code",
   "execution_count": 45,
   "id": "3fb80706",
   "metadata": {},
   "outputs": [
    {
     "name": "stdout",
     "output_type": "stream",
     "text": [
      "120\n",
      "Invalid input\n"
     ]
    }
   ],
   "source": [
    "def factorial(n):\n",
    "    if n < 0:\n",
    "        return \"Invalid input\"\n",
    "    elif n == 0:\n",
    "        return 1\n",
    "    else:\n",
    "        result = 1\n",
    "        for number in range(1, n+1):\n",
    "            result *= number\n",
    "        return result\n",
    "\n",
    "\n",
    "print(factorial(5))   # Testing, expected output: 120\n",
    "print(factorial(-1))  # Testing, expected output: Invalid input"
   ]
  }
 ],
 "metadata": {
  "kernelspec": {
   "display_name": "base",
   "language": "python",
   "name": "python3"
  },
  "language_info": {
   "codemirror_mode": {
    "name": "ipython",
    "version": 3
   },
   "file_extension": ".py",
   "mimetype": "text/x-python",
   "name": "python",
   "nbconvert_exporter": "python",
   "pygments_lexer": "ipython3",
   "version": "3.13.5"
  },
  "toc": {
   "base_numbering": 1,
   "nav_menu": {},
   "number_sections": true,
   "sideBar": true,
   "skip_h1_title": false,
   "title_cell": "Table of Contents",
   "title_sidebar": "Contents",
   "toc_cell": false,
   "toc_position": {},
   "toc_section_display": true,
   "toc_window_display": false
  }
 },
 "nbformat": 4,
 "nbformat_minor": 5
}
