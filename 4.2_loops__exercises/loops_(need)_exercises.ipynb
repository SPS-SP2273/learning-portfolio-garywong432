{
 "cells": [
  {
   "attachments": {},
   "cell_type": "markdown",
   "id": "123456",
   "metadata": {},
   "source": [
    "<div style=\"text-align:left;font-size:2em\"><span style=\"font-weight:bolder;font-size:1.25em\">SP2273 | Learning Portfolio</span><br><br><span style=\"font-weight:bold;color:darkred\">Loops (Need) Exercises</span></div>"
   ]
  },
  {
   "cell_type": "code",
   "execution_count": 1,
   "id": "58167d9f",
   "metadata": {},
   "outputs": [
    {
     "name": "stdout",
     "output_type": "stream",
     "text": [
      " 0C =  32.0F\n",
      " 5C =  41.0F\n",
      "10C =  50.0F\n",
      "15C =  59.0F\n",
      "20C =  68.0F\n",
      "25C =  77.0F\n",
      "30C =  86.0F\n",
      "35C =  95.0F\n",
      "40C = 104.0F\n",
      "45C = 113.0F\n",
      "50C = 122.0F\n"
     ]
    }
   ],
   "source": [
    "temperatures_celsius = [\n",
    "    0, 5, 10, 15, 20, 25,\n",
    "    30, 35, 40, 45, 50\n",
    "]\n",
    "\n",
    "for temp_c in temperatures_celsius:\n",
    "    temp_f = temp_c * 9 / 5 + 32\n",
    "    print(f\"{temp_c:2}C = {temp_f:5.1f}F\")"
   ]
  },
  {
   "cell_type": "code",
   "execution_count": 2,
   "id": "40c19ed9",
   "metadata": {},
   "outputs": [
    {
     "name": "stdout",
     "output_type": "stream",
     "text": [
      "A1\tA2\tA3\t\n",
      "\n",
      "B1\tB2\tB3\t\n",
      "\n",
      "C1\tC2\tC3\t\n",
      "\n"
     ]
    }
   ],
   "source": [
    "for letter in ['A', 'B', 'C']:\n",
    "    for number in [1, 2, 3]:\n",
    "        print(f'{letter}{number}', end='\\t')\n",
    "    print('\\n')"
   ]
  },
  {
   "cell_type": "code",
   "execution_count": 36,
   "id": "b22e2fb9",
   "metadata": {},
   "outputs": [
    {
     "name": "stdout",
     "output_type": "stream",
     "text": [
      "1:\t1\t2\t3\t4\t5\t\n",
      "2:\t2\t4\t6\t8\t10\t\n",
      "3:\t3\t6\t9\t12\t15\t\n",
      "4:\t4\t8\t12\t16\t20\t\n",
      "5:\t5\t10\t15\t20\t25\t\n"
     ]
    }
   ],
   "source": [
    "for number in [1, 2, 3, 4, 5]:\n",
    "    print(f'{number}:', end='\\t')\n",
    "    for multiply in [1, 2, 3, 4, 5]:\n",
    "        print(f'{number * multiply}', end='\\t')\n",
    "    print()"
   ]
  },
  {
   "cell_type": "code",
   "execution_count": 33,
   "id": "36c5353f",
   "metadata": {},
   "outputs": [
    {
     "name": "stdout",
     "output_type": "stream",
     "text": [
      "1 :\t1\t2\t3\t4\t5\t\n",
      "2 :\t2\t4\t6\t8\t10\t\n",
      "3 :\t3\t6\t9\t12\t15\t\n",
      "4 :\t4\t8\t12\t16\t20\t\n",
      "5 :\t5\t10\t15\t20\t25\t\n"
     ]
    }
   ],
   "source": [
    "for count, number in enumerate([1, 2, 3, 4, 5], 1):\n",
    "    print(f'{count} :',end='\\t')\n",
    "    for multiply in [1, 2, 3, 4, 5]:\n",
    "        print(f'{number * multiply}',end='\\t')\n",
    "    print()"
   ]
  },
  {
   "cell_type": "code",
   "execution_count": 37,
   "id": "5af6781a",
   "metadata": {},
   "outputs": [],
   "source": [
    "import numpy as np"
   ]
  },
  {
   "cell_type": "code",
   "execution_count": 38,
   "id": "59ad1d8f",
   "metadata": {},
   "outputs": [
    {
     "data": {
      "text/plain": [
       "array([0.28227462, 0.23098326, 0.23836331, 0.42572442, 0.76355609,\n",
       "       0.80587525, 0.0958523 , 0.48996382, 0.23807418, 0.51652981])"
      ]
     },
     "execution_count": 38,
     "metadata": {},
     "output_type": "execute_result"
    }
   ],
   "source": [
    "np.random.rand(10)"
   ]
  },
  {
   "cell_type": "code",
   "execution_count": 56,
   "id": "7287a9d9",
   "metadata": {},
   "outputs": [
    {
     "name": "stdout",
     "output_type": "stream",
     "text": [
      "[0. 0. 1. 0. 1. 0. 0. 0. 1. 0.]\n",
      "The sum of the array is 3.0\n"
     ]
    }
   ],
   "source": [
    "random = np.random.rand(10)\n",
    "random[random > 0.5] = 1\n",
    "random[random <= 0.5] = 0\n",
    "print(random)\n",
    "sum = random.sum()\n",
    "print(f'The sum of the array is {sum}')"
   ]
  },
  {
   "cell_type": "code",
   "execution_count": 119,
   "id": "284670e9",
   "metadata": {},
   "outputs": [
    {
     "name": "stdout",
     "output_type": "stream",
     "text": [
      "Experiment  1: No. of Heads = 7.0\n",
      "Experiment  2: No. of Heads = 5.0\n",
      "Experiment  3: No. of Heads = 5.0\n",
      "Experiment  4: No. of Heads = 6.0\n",
      "Experiment  5: No. of Heads = 5.0\n",
      "Experiment  6: No. of Heads = 6.0\n",
      "Experiment  7: No. of Heads = 7.0\n",
      "Experiment  8: No. of Heads = 7.0\n",
      "Experiment  9: No. of Heads = 5.0\n"
     ]
    }
   ],
   "source": [
    "for number in range(1,10):\n",
    "    random = np.random.rand(10)\n",
    "    random[random > 0.5] = 1\n",
    "    random[random <= 0.5] = 0\n",
    "    sum = random.sum()\n",
    "    print(f'Experiment  {number}: No. of Heads = {sum}')"
   ]
  }
 ],
 "metadata": {
  "kernelspec": {
   "display_name": "base",
   "language": "python",
   "name": "python3"
  },
  "language_info": {
   "codemirror_mode": {
    "name": "ipython",
    "version": 3
   },
   "file_extension": ".py",
   "mimetype": "text/x-python",
   "name": "python",
   "nbconvert_exporter": "python",
   "pygments_lexer": "ipython3",
   "version": "3.13.5"
  },
  "toc": {
   "base_numbering": 1,
   "nav_menu": {},
   "number_sections": true,
   "sideBar": true,
   "skip_h1_title": false,
   "title_cell": "Table of Contents",
   "title_sidebar": "Contents",
   "toc_cell": false,
   "toc_position": {},
   "toc_section_display": true,
   "toc_window_display": false
  }
 },
 "nbformat": 4,
 "nbformat_minor": 5
}
