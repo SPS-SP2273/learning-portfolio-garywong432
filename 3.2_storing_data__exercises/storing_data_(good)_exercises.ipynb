{
 "cells": [
  {
   "attachments": {},
   "cell_type": "markdown",
   "id": "123456",
   "metadata": {},
   "source": [
    "<div style=\"text-align:left;font-size:2em\"><span style=\"font-weight:bolder;font-size:1.25em\">SP2273 | Learning Portfolio</span><br><br><span style=\"font-weight:bold;color:darkred\">Storing Data (Good) Exercises</span></div>"
   ]
  },
  {
   "cell_type": "code",
   "execution_count": 1,
   "id": "9855a2b1",
   "metadata": {},
   "outputs": [],
   "source": [
    "import numpy as np"
   ]
  },
  {
   "cell_type": "markdown",
   "id": "2ede9b24",
   "metadata": {},
   "source": [
    "1. _Subsetting is using either indexing or slicing to create a subset of data you want to work with_\n",
    "1. Indexing is selecting 1 data from an array or a list\n",
    "1. _Slicing is selecting a range of data from the array or list._\n",
    "1. Masking is a tool for arrays to select data following a specific condition."
   ]
  },
  {
   "cell_type": "code",
   "execution_count": 2,
   "id": "7b947be1",
   "metadata": {},
   "outputs": [],
   "source": [
    "np_array_2d = np.array([[1, \"A\"], [3, \"C\"], [2, \"B\"], [4, \"D\"],\n",
    "                        [5, \"E\"], [7, \"G\"], [6, \"F\"], [8, \"H\"],\n",
    "                        [10, \"J\"], [9, \"I\"]])"
   ]
  },
  {
   "cell_type": "code",
   "execution_count": 27,
   "id": "fa7ecacf",
   "metadata": {},
   "outputs": [
    {
     "data": {
      "text/plain": [
       "array(['A', 'C', 'E', 'G', 'I'], dtype='<U21')"
      ]
     },
     "execution_count": 27,
     "metadata": {},
     "output_type": "execute_result"
    }
   ],
   "source": [
    "np_numbers = np_array_2d[:,0]\n",
    "\n",
    "np_numbers_remainder = np_numbers.astype(int) % 2\n",
    "\n",
    "np_array_2d[np_numbers_remainder == 1][:, 1]\n",
    "\n",
    "\n"
   ]
  },
  {
   "cell_type": "code",
   "execution_count": 73,
   "id": "248350bc",
   "metadata": {},
   "outputs": [
    {
     "name": "stdout",
     "output_type": "stream",
     "text": [
      "[[ 1  0  1 -1 -1]\n",
      " [ 1 -1  1 -1 -1]\n",
      " [ 1 -1 -1  1 -1]\n",
      " [-1  1  1 -1 -1]\n",
      " [ 1 -1  1 -1  1]]\n"
     ]
    }
   ],
   "source": [
    "py_list = [[66, 50, 57, -1, -1],\n",
    "               [92, -1, 88, -1, -1],\n",
    "               [75, -1, -1, 76, -1],\n",
    "               [-1, 51, 87, -1, -1],\n",
    "               [71, -1, 67, -1, 69]]\n",
    "\n",
    "np_array= np.array(py_list)\n",
    "\n",
    "mymask = np_array >50 #more than 50\n",
    "mymask2 = np_array < 50 #less than 50\n",
    "mymask3 = np_array == 50 #equal to 50\n",
    "\n",
    "np_array[mymask] = 1\n",
    "np_array[mymask2] = -1 \n",
    "np_array[mymask3] = 0\n",
    "print(np_array)"
   ]
  }
 ],
 "metadata": {
  "kernelspec": {
   "display_name": "base",
   "language": "python",
   "name": "python3"
  },
  "language_info": {
   "codemirror_mode": {
    "name": "ipython",
    "version": 3
   },
   "file_extension": ".py",
   "mimetype": "text/x-python",
   "name": "python",
   "nbconvert_exporter": "python",
   "pygments_lexer": "ipython3",
   "version": "3.13.5"
  },
  "toc": {
   "base_numbering": 1,
   "nav_menu": {},
   "number_sections": true,
   "sideBar": true,
   "skip_h1_title": false,
   "title_cell": "Table of Contents",
   "title_sidebar": "Contents",
   "toc_cell": false,
   "toc_position": {},
   "toc_section_display": true,
   "toc_window_display": false
  }
 },
 "nbformat": 4,
 "nbformat_minor": 5
}
