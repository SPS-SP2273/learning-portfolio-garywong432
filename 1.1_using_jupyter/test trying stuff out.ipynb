{
 "cells": [
  {
   "cell_type": "markdown",
   "id": "f4097c18",
   "metadata": {},
   "source": [
    "# Exercise 1"
   ]
  },
  {
   "cell_type": "markdown",
   "id": "3fba42e8",
   "metadata": {},
   "source": [
    "![](https://upload.wikimedia.org/wikipedia/commons/thumb/f/f8/Polynomialdeg2.svg/300px-Polynomialdeg2.svg.png)"
   ]
  },
  {
   "cell_type": "markdown",
   "id": "ea502e91",
   "metadata": {},
   "source": [
    "_(Image from the [Wikipedia page on Quadratic equations](https://en.wikipedia.org/wiki/Quadratic_equation))_"
   ]
  },
  {
   "cell_type": "markdown",
   "id": "bea9dd9b",
   "metadata": {},
   "source": [
    "The general form of quadratic equation is:\n",
    "$$\n",
    "ax^2 + bx + c = 0\n",
    "$$"
   ]
  },
  {
   "cell_type": "markdown",
   "id": "8b0cb919",
   "metadata": {},
   "source": [
    "## **Solutions**"
   ]
  },
  {
   "cell_type": "markdown",
   "id": "3f0f09f0",
   "metadata": {},
   "source": [
    "Provided $a \\ne 0$, we can use an elementary algebraic method called [completing the square](https://en.wikipedia.org/wiki/Completing_the_square) to show that quadratic equation has the following solution:\n",
    "\n",
    "$$\n",
    "x = \\dfrac{-b \\pm \\sqrt{b^2-4ac}}{2a}\n",
    "$$"
   ]
  },
  {
   "cell_type": "markdown",
   "id": "62960ce1",
   "metadata": {},
   "source": [
    "## **Discriminant**\n",
    "The quantity $\\Delta = b^2-4ac$ is called the **discriminant** of the equation and decides the nature of its solutions. The table below shows the various possibilities.\n",
    "\n",
    "| **Discriminant**         | **Roots**                           |\n",
    "|--------------------------|-------------------------------------|\n",
    "| $\\Delta = b^2-4ac = 0$   | A single solution of $-b/(2a)$      |\n",
    "| $\\Delta = b^2-4ac \\gt 0$ | Two distinct solutions              |\n",
    "| $\\Delta = b^2-4ac \\lt 0$ | No real solutions; both are complex |"
   ]
  },
  {
   "cell_type": "markdown",
   "id": "b34ff676",
   "metadata": {},
   "source": [
    "# Exercise 2"
   ]
  },
  {
   "cell_type": "markdown",
   "id": "360fa7ab",
   "metadata": {},
   "source": [
    "1. Git repository is like a place to store all your coding files.\n",
    "1. Git keeps track of **CHANGES** in the files of the repository\n",
    "1. Commit is like saving a word document file into the laptop, just that it is a file with python language.\n",
    "1. Push is like to upload a file into the clout, like uploading a word document into google drive.\n",
    "2. Pull is like to download a file from the clout into your own device.\n",
    "3. GitHub is like an online platform on the web, while GitHub Desktop is ran on the device itself."
   ]
  },
  {
   "cell_type": "markdown",
   "id": "d8a964d1-cc6a-4a92-8638-681dd2ab9795",
   "metadata": {},
   "source": [
    "**Exercise 3 (A Matter of Statistics)** The mean ($\\mu$), standard deviation ($\\sigma$), and Pearson correlation coefficient ($\\tau$) are important statistical parameters. Given variables $x_{i}$ and $y_{i}$ representing the $i$-th values in a dataset with $n$ pairs, use Markdown notation to write the equations for these parameters."
   ]
  },
  {
   "cell_type": "markdown",
   "id": "e9c23077-53be-4fcf-b44f-78598a0e3ad3",
   "metadata": {},
   "source": [
    "$$\n",
    "\\mu = \\frac{1}{n} \\sum_{i=1}^{n} x_{i}\n",
    "$$\n",
    "\n",
    "$$\n",
    "\\sigma = \\sqrt{\\frac{1}{n} \\sum_{i=1}^{n} (x_{i} - \\mu)^2}\n",
    "$$\n",
    "\n",
    "$$\n",
    "\\tau = \\frac{\\sum_{i=1}^{n}(x_{i} -\\mu_{_X_})(y_{i} - \\mu_{_Y_})}{\\sqrt{\\sum_{i=1}^{n}(x_{i} -\\mu_{_X_})^2 \\sum_{i=1}^{n}(y_{i} - \\mu_{_Y_})^2}}\n",
    "$$"
   ]
  },
  {
   "cell_type": "code",
   "execution_count": null,
   "id": "c4201018-bb3e-46e7-a800-48baf0b8915f",
   "metadata": {},
   "outputs": [],
   "source": []
  }
 ],
 "metadata": {
  "kernelspec": {
   "display_name": "Python 3 (ipykernel)",
   "language": "python",
   "name": "python3"
  },
  "language_info": {
   "codemirror_mode": {
    "name": "ipython",
    "version": 3
   },
   "file_extension": ".py",
   "mimetype": "text/x-python",
   "name": "python",
   "nbconvert_exporter": "python",
   "pygments_lexer": "ipython3",
   "version": "3.13.5"
  }
 },
 "nbformat": 4,
 "nbformat_minor": 5
}
