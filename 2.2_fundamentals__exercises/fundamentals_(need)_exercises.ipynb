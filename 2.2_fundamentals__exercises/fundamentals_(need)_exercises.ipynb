{
 "cells": [
  {
   "attachments": {},
   "cell_type": "markdown",
   "id": "123456",
   "metadata": {},
   "source": [
    "<div style=\"text-align:left;font-size:2em\"><span style=\"font-weight:bolder;font-size:1.25em\">SP2273 | Learning Portfolio</span><br><br><span style=\"font-weight:bold;color:darkred\">Fundamentals (Need) Exercises</span></div>"
   ]
  },
  {
   "cell_type": "markdown",
   "id": "aaadc0b2",
   "metadata": {},
   "source": [
    "1. print('something')\n",
    "1. if , else\n",
    "1. Brackets can be used for math, calling functions and square brackets for lists\n",
    "1. import packages to do math or other things\n",
    "1. dot can be use to indicate that something belongs to something else \n",
    "1. _= is not the same as ==_\n",
    "1. _'#' can be used for comments_\n",
    "1. _ tab can be used to make spaces/indentations_\n"
   ]
  },
  {
   "cell_type": "code",
   "execution_count": 4,
   "id": "a37411f5",
   "metadata": {},
   "outputs": [],
   "source": [
    "import math"
   ]
  },
  {
   "cell_type": "code",
   "execution_count": 37,
   "id": "b7bafbe4",
   "metadata": {},
   "outputs": [
    {
     "name": "stdout",
     "output_type": "stream",
     "text": [
      "5.0\n"
     ]
    }
   ],
   "source": [
    "x, y = 3, 4\n",
    "z = math.sqrt(x**2 + y**2)\n",
    "print(z)"
   ]
  },
  {
   "cell_type": "markdown",
   "id": "f7c3ce9e",
   "metadata": {},
   "source": [
    "| **#** | **Term**     | **Description**                                                                       |   |   |\n",
    "|-------|--------------|---------------------------------------------------------------------------------------|---|---|\n",
    "| 1     | Function     | are tools in python that can be used to execute or perform a task                     |   |   |\n",
    "| 2     | Arguments    | are values that can be put into a function to do the task                             |   |   |\n",
    "| 3     | Comments     | can be used to track what each code does, or to let the user know what   each code do |   |   |\n",
    "| 4     | Indentations | make proper spaces in code                                                            |   |   |\n",
    "| 5     | Packages     | can be imported to give python additional features                                    |   |   |\n",
    "| 6     | .            | used to indicate ownership                                                            |   |   |\n",
    "| 7     | :            | used to continue coding blocks in a different line                                    |   |   |\n",
    "| 8     | []           | used to make a list                                                                   |   |   |\n",
    "| 9     | [ [ ], [ ] ] | used to make a 2d list                                                                |   |   |\n",
    "| 10    | {}           | used to store things in a dictionary                                                  |   |   |"
   ]
  },
  {
   "cell_type": "code",
   "execution_count": 11,
   "id": "e8007ce1",
   "metadata": {},
   "outputs": [
    {
     "data": {
      "text/plain": [
       "2.5"
      ]
     },
     "execution_count": 11,
     "metadata": {},
     "output_type": "execute_result"
    }
   ],
   "source": [
    "5/2           # This is just a standard math equation, where \"/\" denotes division."
   ]
  },
  {
   "cell_type": "code",
   "execution_count": 23,
   "id": "56bb3fee",
   "metadata": {},
   "outputs": [
    {
     "data": {
      "text/plain": [
       "70"
      ]
     },
     "execution_count": 23,
     "metadata": {},
     "output_type": "execute_result"
    }
   ],
   "source": [
    "141//2          # This divides the number and only returns the integer part of the result."
   ]
  },
  {
   "cell_type": "code",
   "execution_count": 36,
   "id": "c0b1304c",
   "metadata": {},
   "outputs": [
    {
     "data": {
      "text/plain": [
       "4"
      ]
     },
     "execution_count": 36,
     "metadata": {},
     "output_type": "execute_result"
    }
   ],
   "source": [
    "164%8           # This divides the number and returns the remainder of the division."
   ]
  }
 ],
 "metadata": {
  "kernelspec": {
   "display_name": "Python 3 (ipykernel)",
   "language": "python",
   "name": "python3"
  },
  "language_info": {
   "codemirror_mode": {
    "name": "ipython",
    "version": 3
   },
   "file_extension": ".py",
   "mimetype": "text/x-python",
   "name": "python",
   "nbconvert_exporter": "python",
   "pygments_lexer": "ipython3",
   "version": "3.13.5"
  },
  "toc": {
   "base_numbering": 1,
   "nav_menu": {},
   "number_sections": true,
   "sideBar": true,
   "skip_h1_title": false,
   "title_cell": "Table of Contents",
   "title_sidebar": "Contents",
   "toc_cell": false,
   "toc_position": {},
   "toc_section_display": true,
   "toc_window_display": false
  }
 },
 "nbformat": 4,
 "nbformat_minor": 5
}
