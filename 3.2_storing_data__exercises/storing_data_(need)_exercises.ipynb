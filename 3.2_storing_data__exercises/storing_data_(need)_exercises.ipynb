{
 "cells": [
  {
   "attachments": {},
   "cell_type": "markdown",
   "id": "123456",
   "metadata": {},
   "source": [
    "<div style=\"text-align:left;font-size:2em\"><span style=\"font-weight:bolder;font-size:1.25em\">SP2273 | Learning Portfolio</span><br><br><span style=\"font-weight:bold;color:darkred\">Storing Data (Need) Exercises</span></div>"
   ]
  },
  {
   "cell_type": "code",
   "execution_count": 1,
   "id": "db1862a0",
   "metadata": {},
   "outputs": [],
   "source": [
    "import numpy as np"
   ]
  },
  {
   "cell_type": "markdown",
   "id": "fdfe263a",
   "metadata": {},
   "source": [
    "1. both can be used to store data in 1d and 2d.\n",
    "1. _both list and arrays can sum up the data they have_\n",
    "1. When you add lists together it just extends the list, but when you add arrays together it adds the value in the arrays\n",
    "1. Lists are less sensitive when it comes to data types, while arrays are more particular about having one data type.\n",
    "1. dictionary can be used to store data in the form of keys and values.\n"
   ]
  },
  {
   "cell_type": "code",
   "execution_count": 2,
   "id": "0068a07e",
   "metadata": {},
   "outputs": [
    {
     "name": "stdout",
     "output_type": "stream",
     "text": [
      "i9\n",
      "['a1', 'c3', 'e5', 'g7', 'i9']\n"
     ]
    }
   ],
   "source": [
    "py_list = [\"a1\", \"b2\", \"c3\", \"d4\", \"e5\", \"f6\", \"g7\", \"h8\", \"i9\", \"j10\"]\n",
    "                    # Prints 'a1'\n",
    "                    # Prints 'c3'\n",
    "                    # Prints 'e5'\n",
    "                    # Prints 'g7'\n",
    "print(py_list[8])   # Prints 'i9'\n",
    "\n",
    "print(py_list[0: :2])"
   ]
  },
  {
   "cell_type": "code",
   "execution_count": 7,
   "id": "4dde32c1",
   "metadata": {},
   "outputs": [
    {
     "name": "stdout",
     "output_type": "stream",
     "text": [
      "Beryllium\n",
      "Nitrogen\n"
     ]
    }
   ],
   "source": [
    "elements = ['Hydrogen',\n",
    "            'Helium', 'Lithium',\n",
    "            'Beryllium', 'Boron', 'Carbon',\n",
    "            'Nitrogen', 'Oxygen',\n",
    "            'Fluorine',\n",
    "            'Neon']\n",
    "\n",
    "\n",
    "print(elements[3])\n",
    "\n",
    "print(elements[-4])"
   ]
  },
  {
   "cell_type": "code",
   "execution_count": 20,
   "id": "a561ed21",
   "metadata": {},
   "outputs": [
    {
     "data": {
      "text/plain": [
       "np.int64(9)"
      ]
     },
     "execution_count": 20,
     "metadata": {},
     "output_type": "execute_result"
    }
   ],
   "source": [
    "numbers=[45, 60, 1, 30, 96, 1, 96, 57, 16, 1,\n",
    "        99, 62, 86, 43, 42, 60, 59, 1, 1, 35,\n",
    "        83, 47, 34, 28, 68, 23, 22, 92, 1, 79,\n",
    "        1, 29, 94, 72, 46, 47, 1, 74, 32, 20,\n",
    "        8, 37, 35, 1, 89, 29, 86, 19, 43, 61]                  \n",
    "\n",
    "np_numbers = np.array(numbers)\n",
    "\n",
    "mymask = np_numbers == 1\n",
    "np_numbers[mymask].sum()\n",
    "\n",
    "\n",
    "# without mask variable\n",
    "\n",
    "np_numbers[np_numbers == 1].sum()"
   ]
  },
  {
   "cell_type": "code",
   "execution_count": 4,
   "id": "6343f43e",
   "metadata": {},
   "outputs": [
    {
     "name": "stdout",
     "output_type": "stream",
     "text": [
      "38.5\n",
      "302.5\n",
      "32.41990129534635\n",
      "326.0893282522444\n"
     ]
    }
   ],
   "source": [
    "x_1 = [1, 4, 9, 16, 25, 36, 49, 64, 81, 100]\n",
    "x_2 = [1, 8, 27, 64, 125, 216, 343, 512, 729, 1000]\n",
    "\n",
    "np_x_1 = np.array(x_1)\n",
    "np_x_2 = np.array(x_2)\n",
    "\n",
    "print(np_x_1.mean())\n",
    "print(np_x_2.mean())\n",
    "print(np_x_1.std())\n",
    "print(np_x_2.std())"
   ]
  },
  {
   "cell_type": "markdown",
   "id": "22203ad6",
   "metadata": {},
   "source": [
    "![](https://www.statisticshowto.com/wp-content/uploads/2012/10/pearson.gif)"
   ]
  },
  {
   "cell_type": "code",
   "execution_count": 8,
   "id": "ec20c87d",
   "metadata": {},
   "outputs": [
    {
     "data": {
      "text/plain": [
       "np.int64(253330)"
      ]
     },
     "execution_count": 8,
     "metadata": {},
     "output_type": "execute_result"
    }
   ],
   "source": [
    "(np_x_1 + np_x_2) # This will add the corresponding elements of the two arrays\n",
    "np_x_1.sum()  # This will sum all the elements in the x1\n",
    "np_x_2.sum()  # This will sum all the elements in the x2\n",
    "sqr_x_1 = np.square(np_x_1) # This will square each element in the x1\n",
    "sqr_x_2= np.square(np_x_2) # This will square each element in the x2\n",
    "sqr_x_1.sum()*10"
   ]
  },
  {
   "cell_type": "code",
   "execution_count": 16,
   "id": "937faae3",
   "metadata": {},
   "outputs": [],
   "source": [
    "numerator = ((np_x_1 * np_x_2).sum())*10 - (np_x_1.sum() * np_x_2.sum()) # numerator LOL\n"
   ]
  },
  {
   "cell_type": "code",
   "execution_count": 17,
   "id": "86b863fb",
   "metadata": {},
   "outputs": [
    {
     "data": {
      "text/plain": [
       "np.float64(0.9871796626270701)"
      ]
     },
     "execution_count": 17,
     "metadata": {},
     "output_type": "execute_result"
    }
   ],
   "source": [
    "sqr_3 = (sqr_x_1.sum())*10 - np_x_1.sum()**2 \n",
    "\n",
    "sqr_4 = (sqr_x_2.sum())*10 - np_x_2.sum()**2\n",
    "\n",
    "np.sqrt(sqr_3 * sqr_4) # This is the denominator LOL\n",
    "\n",
    "numerator / np.sqrt(sqr_3 * sqr_4) # this shld be r LOL"
   ]
  },
  {
   "cell_type": "code",
   "execution_count": 19,
   "id": "9597c1aa",
   "metadata": {},
   "outputs": [
    {
     "data": {
      "text/plain": [
       "np.float64(0.9871796626270701)"
      ]
     },
     "execution_count": 19,
     "metadata": {},
     "output_type": "execute_result"
    }
   ],
   "source": [
    "np.corrcoef(np_x_1, np_x_2)[0, 1]"
   ]
  },
  {
   "cell_type": "code",
   "execution_count": null,
   "id": "56fd4542",
   "metadata": {},
   "outputs": [],
   "source": []
  }
 ],
 "metadata": {
  "kernelspec": {
   "display_name": "base",
   "language": "python",
   "name": "python3"
  },
  "language_info": {
   "codemirror_mode": {
    "name": "ipython",
    "version": 3
   },
   "file_extension": ".py",
   "mimetype": "text/x-python",
   "name": "python",
   "nbconvert_exporter": "python",
   "pygments_lexer": "ipython3",
   "version": "3.13.5"
  },
  "toc": {
   "base_numbering": 1,
   "nav_menu": {},
   "number_sections": true,
   "sideBar": true,
   "skip_h1_title": false,
   "title_cell": "Table of Contents",
   "title_sidebar": "Contents",
   "toc_cell": false,
   "toc_position": {},
   "toc_section_display": true,
   "toc_window_display": false
  }
 },
 "nbformat": 4,
 "nbformat_minor": 5
}
