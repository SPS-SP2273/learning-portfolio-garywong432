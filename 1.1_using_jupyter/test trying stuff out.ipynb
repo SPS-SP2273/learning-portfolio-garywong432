{
 "cells": [
  {
   "cell_type": "code",
   "execution_count": 1,
   "id": "08c47eac-9fed-4c87-a9aa-aec142a7653f",
   "metadata": {},
   "outputs": [
    {
     "name": "stdout",
     "output_type": "stream",
     "text": [
      "6\n"
     ]
    }
   ],
   "source": [
    "a = 4\n",
    "b = 2\n",
    "c = a + b\n",
    "print(c)\n"
   ]
  },
  {
   "cell_type": "code",
   "execution_count": 2,
   "id": "215ee768-c131-4ee0-be36-2689421bc4ee",
   "metadata": {},
   "outputs": [
    {
     "name": "stdout",
     "output_type": "stream",
     "text": [
      "Hello World\n"
     ]
    }
   ],
   "source": [
    "print('Hello World')"
   ]
  },
  {
   "cell_type": "markdown",
   "id": "2f975c06-4b25-4f3a-9f22-914dee11e70e",
   "metadata": {},
   "source": [
    "**The ships hung in the sky is much the same way that bricks don't**"
   ]
  },
  {
   "cell_type": "markdown",
   "id": "e54036d9-e20f-4768-8c0e-bbd0fcc810cf",
   "metadata": {},
   "source": [
    "# The ships *hung in the sky* in much the same way that **bricks don't.** <sup>1</sup><sub>QUOTE</sub>"
   ]
  },
  {
   "cell_type": "markdown",
   "id": "fdfccba4-c637-4e02-add6-94283dfd364d",
   "metadata": {},
   "source": [
    "`print('Hello World')`"
   ]
  },
  {
   "cell_type": "markdown",
   "id": "ab8dec38-4746-4ab6-b8a5-7614baf5cd25",
   "metadata": {},
   "source": [
    "```python\n",
    "print('Hello World')\n",
    "```"
   ]
  },
  {
   "cell_type": "markdown",
   "id": "d136fe8e-1a02-4da9-a4bd-fc7fc41c386f",
   "metadata": {},
   "source": [
    "[SP2273 Website](https://sps.nus.edu.sg/sp2273)"
   ]
  },
  {
   "cell_type": "markdown",
   "id": "95135d23-d31b-4cec-8e28-0a152b5caccf",
   "metadata": {},
   "source": [
    "![](https://nus.edu.sg/images/default-source/base/logo.png)"
   ]
  },
  {
   "cell_type": "code",
   "execution_count": null,
   "id": "7d5d7c7b-213d-42bd-9ed2-fa0941c5c28d",
   "metadata": {},
   "outputs": [],
   "source": []
  }
 ],
 "metadata": {
  "kernelspec": {
   "display_name": "Python 3 (ipykernel)",
   "language": "python",
   "name": "python3"
  },
  "language_info": {
   "codemirror_mode": {
    "name": "ipython",
    "version": 3
   },
   "file_extension": ".py",
   "mimetype": "text/x-python",
   "name": "python",
   "nbconvert_exporter": "python",
   "pygments_lexer": "ipython3",
   "version": "3.13.5"
  }
 },
 "nbformat": 4,
 "nbformat_minor": 5
}
